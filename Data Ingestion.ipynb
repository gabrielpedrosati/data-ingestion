{
 "cells": [
  {
   "cell_type": "markdown",
   "id": "a2bcb99e",
   "metadata": {},
   "source": [
    "# Data Ingestion"
   ]
  },
  {
   "cell_type": "markdown",
   "id": "1c6468ac",
   "metadata": {},
   "source": [
    "## Introduction"
   ]
  },
  {
   "cell_type": "markdown",
   "id": "d21eff67",
   "metadata": {},
   "source": [
    "I have 8 csv files that I need to ingest into my Relational Database."
   ]
  },
  {
   "cell_type": "markdown",
   "id": "7584518c",
   "metadata": {},
   "source": [
    "Files:\n",
    "- Weather.csv\n",
    "- Titanic.csv\n",
    "- Stations.csv\n",
    "- Rides.csv\n",
    "- NBA.csv\n",
    "- Enderecos.txt\n",
    "- Clientes.txt"
   ]
  },
  {
   "cell_type": "code",
   "execution_count": 1,
   "id": "da7c6eef",
   "metadata": {},
   "outputs": [
    {
     "name": "stdout",
     "output_type": "stream",
     "text": [
      "Defaulting to user installation because normal site-packages is not writeable\n",
      "Requirement already satisfied: sqlalchemy in c:\\users\\pedrosa\\appdata\\roaming\\python\\python39\\site-packages (2.0.7)\n",
      "Requirement already satisfied: greenlet!=0.4.17 in c:\\users\\pedrosa\\appdata\\roaming\\python\\python39\\site-packages (from sqlalchemy) (2.0.2)\n",
      "Requirement already satisfied: typing-extensions>=4.2.0 in c:\\users\\pedrosa\\appdata\\roaming\\python\\python39\\site-packages (from sqlalchemy) (4.5.0)\n",
      "Defaulting to user installation because normal site-packages is not writeable\n",
      "Requirement already satisfied: pymysql in c:\\users\\pedrosa\\appdata\\roaming\\python\\python39\\site-packages (1.0.3)\n",
      "Defaulting to user installation because normal site-packages is not writeable\n",
      "Requirement already satisfied: python-dotenv in c:\\users\\pedrosa\\appdata\\roaming\\python\\python39\\site-packages (1.0.0)\n"
     ]
    }
   ],
   "source": [
    "# Install libraries\n",
    "!pip install sqlalchemy\n",
    "!pip install pymysql\n",
    "!pip install python-dotenv"
   ]
  },
  {
   "cell_type": "code",
   "execution_count": 2,
   "id": "243ee0be",
   "metadata": {},
   "outputs": [],
   "source": [
    "# Import libraries\n",
    "\n",
    "import os\n",
    "import pymysql\n",
    "import pandas as pd\n",
    "from dotenv import load_dotenv\n",
    "from sqlalchemy import create_engine"
   ]
  },
  {
   "cell_type": "code",
   "execution_count": 3,
   "id": "9e74320a",
   "metadata": {},
   "outputs": [],
   "source": [
    "# Import env vars\n",
    "load_dotenv(dotenv_path=\".env\")\n",
    "\n",
    "host = os.getenv(\"HOST\")\n",
    "database = os.getenv(\"DB\")\n",
    "user = os.getenv(\"USER\")\n",
    "password = os.getenv(\"PASSWORD\")\n",
    "port = os.getenv(\"PORT\")"
   ]
  },
  {
   "cell_type": "code",
   "execution_count": 15,
   "id": "eb7df847",
   "metadata": {},
   "outputs": [],
   "source": [
    "class Ingestion:\n",
    "    \"\"\"This class defines the Ingestion process.\n",
    "\n",
    "    Ingest local csv file into database.\n",
    "\n",
    "    Attributes:\n",
    "        host (string): database hostname.\n",
    "        database (string): database name.\n",
    "        user (string): database user.\n",
    "        password (string): database password.\n",
    "        port (int): database port.\n",
    "        engine (object): database connection object.\n",
    "        df (object): pandas dataframe.\n",
    "\n",
    "    Methods:\n",
    "        connect_database(self):\n",
    "            Return database connection object.\n",
    "        read_source(self, filename, delimiter):\n",
    "            Return a pandas dataframe.\n",
    "        load_to_database(self, table):\n",
    "            Load pandas dataframe to database.\n",
    "        close_database_conn(self):\n",
    "            Terminate the database connection.\n",
    "    \"\"\"\n",
    "        \n",
    "    def connect_database(self, host, database, user, password, port):\n",
    "        \"\"\"Connect to database and store the database connection object in self.engine.\n",
    "\n",
    "        Arguments:\n",
    "            host (string): database hostname.\n",
    "            database (string): database name.\n",
    "            user (string): database user.\n",
    "            password (string): database password.\n",
    "            port (int): database port.\n",
    "        \"\"\"\n",
    "\n",
    "        try:\n",
    "            self.engine = create_engine(f\"mysql+pymysql://{user}:{password}@{host}:{port}/{database}\")\n",
    "            print(\"Connected to the database!\")\n",
    "        \n",
    "        except Exception as e:\n",
    "            print(\"Connection failed! Exception: \", e)\n",
    "            \n",
    "    def read_source(self, filename, delimiter):\n",
    "        \"\"\"Create a pandas dataframe from a csv file and store in self.df.\n",
    "\n",
    "        Attributes:\n",
    "            filename (string): file path.\n",
    "            delimiter (string): file delimiter.\n",
    "        \"\"\"\n",
    "\n",
    "        try:\n",
    "            self.df = pd.read_csv(filename, delimiter=delimiter, encoding=\"utf-8\")\n",
    "        \n",
    "        except Exception as e:\n",
    "            print(\"Failed reading file! Exception: \", e)\n",
    "            \n",
    "    def load_to_database(self, table):\n",
    "        \"\"\"Load dataframe into database.\n",
    "\n",
    "        Attribute:\n",
    "            table (string): table name.        \n",
    "        \"\"\"\n",
    "\n",
    "        try:\n",
    "            self.df.to_sql(name=table, con=self.engine, if_exists=\"append\", index=False)\n",
    "            print(\"Loaded successfully!\")\n",
    "        \n",
    "        except Exception as e:\n",
    "            print(\"Load failed! Exception: \", e)\n",
    "            \n",
    "    def close_database_conn(self):\n",
    "        \"\"\"Close database connection\"\"\"\n",
    "\n",
    "        self.engine.dispose()"
   ]
  },
  {
   "cell_type": "code",
   "execution_count": 16,
   "id": "a8651e8a",
   "metadata": {},
   "outputs": [
    {
     "name": "stdout",
     "output_type": "stream",
     "text": [
      "Connected to the database!\n",
      "Loaded successfully!\n"
     ]
    }
   ],
   "source": [
    "if __name__ == \"__main__\":\n",
    "    \n",
    "    ingest = Ingestion()\n",
    "    \n",
    "    ingest.connect_database(host, database, user, password, port)\n",
    "    \n",
    "    ingest.read_source(\"./ARQUIVOS_GENERICOS/STATIONS.csv\", \",\")\n",
    "    \n",
    "    ingest.load_to_database(\"stations\")\n",
    "    \n",
    "    ingest.close_database_conn()"
   ]
  },
  {
   "cell_type": "code",
   "execution_count": null,
   "id": "35a9d064",
   "metadata": {},
   "outputs": [],
   "source": []
  }
 ],
 "metadata": {
  "kernelspec": {
   "display_name": "Python 3 (ipykernel)",
   "language": "python",
   "name": "python3"
  },
  "language_info": {
   "codemirror_mode": {
    "name": "ipython",
    "version": 3
   },
   "file_extension": ".py",
   "mimetype": "text/x-python",
   "name": "python",
   "nbconvert_exporter": "python",
   "pygments_lexer": "ipython3",
   "version": "3.9.13"
  }
 },
 "nbformat": 4,
 "nbformat_minor": 5
}
