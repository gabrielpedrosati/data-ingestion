{
 "cells": [
  {
   "cell_type": "markdown",
   "id": "a2bcb99e",
   "metadata": {},
   "source": [
    "# Data Ingestion"
   ]
  },
  {
   "cell_type": "markdown",
   "id": "1c6468ac",
   "metadata": {},
   "source": [
    "## Introduction"
   ]
  },
  {
   "cell_type": "markdown",
   "id": "d21eff67",
   "metadata": {},
   "source": [
    "I have 8 csv files that I need to ingest into my Relational Database."
   ]
  },
  {
   "cell_type": "markdown",
   "id": "7584518c",
   "metadata": {},
   "source": [
    "Files:\n",
    "- Weather.csv\n",
    "- Titanic.csv\n",
    "- Stations.csv\n",
    "- Rides.csv\n",
    "- NBA.csv\n",
    "- Enderecos.txt\n",
    "- Clientes.txt"
   ]
  },
  {
   "cell_type": "markdown",
   "id": "28c20359",
   "metadata": {},
   "source": [
    "### Import Libraries"
   ]
  },
  {
   "cell_type": "code",
   "execution_count": 2,
   "id": "921ff391",
   "metadata": {},
   "outputs": [
    {
     "name": "stdout",
     "output_type": "stream",
     "text": [
      "Defaulting to user installation because normal site-packages is not writeable\n",
      "Requirement already satisfied: SQLAlchemy in /home/lopes/.local/lib/python3.10/site-packages (2.0.9)\n",
      "Requirement already satisfied: greenlet!=0.4.17 in /home/lopes/.local/lib/python3.10/site-packages (from SQLAlchemy) (2.0.2)\n",
      "Requirement already satisfied: typing-extensions>=4.2.0 in /home/lopes/.local/lib/python3.10/site-packages (from SQLAlchemy) (4.5.0)\n",
      "Defaulting to user installation because normal site-packages is not writeable\n",
      "Requirement already satisfied: pymysql in /home/lopes/.local/lib/python3.10/site-packages (1.0.3)\n",
      "Defaulting to user installation because normal site-packages is not writeable\n",
      "Collecting python-dotenv\n",
      "  Downloading python_dotenv-1.0.0-py3-none-any.whl (19 kB)\n",
      "Installing collected packages: python-dotenv\n",
      "Successfully installed python-dotenv-1.0.0\n"
     ]
    }
   ],
   "source": [
    "!pip install SQLAlchemy\n",
    "!pip install pymysql\n",
    "!pip install python-dotenv"
   ]
  },
  {
   "cell_type": "code",
   "execution_count": 3,
   "id": "9b6edf6f",
   "metadata": {},
   "outputs": [],
   "source": [
    "import os\n",
    "import pymysql\n",
    "import pandas as pd \n",
    "from dotenv import load_dotenv\n",
    "from sqlalchemy import create_engine\n"
   ]
  },
  {
   "attachments": {},
   "cell_type": "markdown",
   "id": "01b65739",
   "metadata": {},
   "source": [
    "### Global Variables"
   ]
  },
  {
   "cell_type": "code",
   "execution_count": 35,
   "id": "137f4971",
   "metadata": {},
   "outputs": [
    {
     "name": "stdout",
     "output_type": "stream",
     "text": [
      "root\n"
     ]
    }
   ],
   "source": [
    "load_dotenv(dotenv_path='.env')  # Load the environment variables from the .env file\n",
    "\n",
    "host = os.getenv('HOST')\n",
    "port = os.getenv('PORT')\n",
    "database = os.getenv('DATABASE')\n",
    "username = os.getenv('DB_USERNAME')\n",
    "password = os.getenv('PASSWORD')"
   ]
  },
  {
   "attachments": {},
   "cell_type": "markdown",
   "id": "10d674d2",
   "metadata": {},
   "source": [
    "### Establish DB Connection and Creating functions for the process"
   ]
  },
  {
   "cell_type": "code",
   "execution_count": 6,
   "id": "7eaf9db2",
   "metadata": {},
   "outputs": [],
   "source": [
    "def connect_database(host, port, username, password, database):\n",
    "    \"\"\"\n",
    "    Connect to database\n",
    "    Returns\n",
    "        engine: connection with the db\n",
    "    \"\"\"\n",
    "    try:\n",
    "        engine = create_engine(f'mysql+pymysql://{username}:{password}@{host}:{port}/{database}')\n",
    "        print('Connected to database')\n",
    "        return engine      \n",
    "    except Exception as e:\n",
    "        print('Connection failed! Exception: ', e)\n",
    "\n",
    "def read_source(filename, delimiter):\n",
    "    \"\"\"\n",
    "    Read files to return dataframe pandas\n",
    "    \"\"\"\n",
    "    try:\n",
    "        df = pd.read_csv(filename, delimiter=delimiter, encoding='utf-8')\n",
    "        df['date_process'] = df.apply(lambda row: pd.Timestamp.now(), axis=1)\n",
    "        return df \n",
    "    except Exception as e:\n",
    "        print('File reading problem: ', e)\n",
    "\n",
    "def write_destination(df, table, engine):\n",
    "    \"\"\"\n",
    "    Generate instance to sql\n",
    "    \"\"\"\n",
    "    try:\n",
    "        df.to_sql(name=table, con=engine, if_exists='append', index=False)\n",
    "    except Exception as e:\n",
    "        print('Unable to write to the table: ', e)"
   ]
  },
  {
   "attachments": {},
   "cell_type": "markdown",
   "id": "852921f4",
   "metadata": {},
   "source": [
    "### Init Ingestion Process"
   ]
  },
  {
   "cell_type": "code",
   "execution_count": 37,
   "id": "6d046210",
   "metadata": {},
   "outputs": [
    {
     "name": "stdout",
     "output_type": "stream",
     "text": [
      "Connected to database\n",
      "Performing file ingest: ARQUIVOS_GENERICOS/NBA.csv\n",
      "Data ingestion in table NBA has been finalized!\n",
      "\n",
      "\n",
      "Performing file ingest: ARQUIVOS_GENERICOS/TITANIC.csv\n",
      "Data ingestion in table TITANIC has been finalized!\n",
      "\n",
      "\n",
      "Performing file ingest: ARQUIVOS_GENERICOS/ENDERECOS.txt\n",
      "Data ingestion in table ENDERECOS has been finalized!\n",
      "\n",
      "\n",
      "Performing file ingest: ARQUIVOS_GENERICOS/CLIENTES.txt\n",
      "Data ingestion in table CLIENTES has been finalized!\n",
      "\n",
      "\n",
      "Performing file ingest: ARQUIVOS_GENERICOS/STATIONS.csv\n",
      "Data ingestion in table STATIONS has been finalized!\n",
      "\n",
      "\n",
      "Performing file ingest: ARQUIVOS_GENERICOS/RIDES.csv\n",
      "Data ingestion in table RIDES has been finalized!\n",
      "\n",
      "\n",
      "Performing file ingest: ARQUIVOS_GENERICOS/WEATHER.csv\n",
      "Data ingestion in table WEATHER has been finalized!\n",
      "\n",
      "\n"
     ]
    }
   ],
   "source": [
    "def main():\n",
    "    \"\"\"\n",
    "    Executes the main process of ingesting data into a database.\n",
    "    \"\"\"\n",
    "    try:\n",
    "        # Define conection with destination\n",
    "        engine = connect_database(host, port, username, password, database)\n",
    "\n",
    "        # Iteration in the parameter table\n",
    "        tb_parameters = os.path.abspath('parameters/tb_parameters.csv')\n",
    "        df = pd.read_csv(tb_parameters, delimiter=',', encoding='utf-8')\n",
    "\n",
    "        # Iteration in the parameter table\n",
    "        for row in df.iterrows():\n",
    "            path_to_read = row[1]['path_read']\n",
    "            delimiter = row[1]['params']\n",
    "            nm_table = row[1]['table']\n",
    "\n",
    "            print(f\"Performing file ingest: {path_to_read}\")\n",
    "            df = read_source(path_to_read,delimiter)\n",
    "\n",
    "            write_destination(df, nm_table, engine)\n",
    "            print(f\"Data ingestion in table {nm_table} has been finalized!\\n\\n\")\n",
    "    except Exception as e:\n",
    "        print('Unable to write to the table: ', e)\n",
    "\n",
    "if __name__ == '__main__':\n",
    "    main()"
   ]
  }
 ],
 "metadata": {
  "kernelspec": {
   "display_name": "Python 3 (ipykernel)",
   "language": "python",
   "name": "python3"
  },
  "language_info": {
   "codemirror_mode": {
    "name": "ipython",
    "version": 3
   },
   "file_extension": ".py",
   "mimetype": "text/x-python",
   "name": "python",
   "nbconvert_exporter": "python",
   "pygments_lexer": "ipython3",
   "version": "3.10.10"
  }
 },
 "nbformat": 4,
 "nbformat_minor": 5
}
